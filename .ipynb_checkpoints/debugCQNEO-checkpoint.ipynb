{
 "cells": [
  {
   "cell_type": "code",
   "execution_count": 1,
   "id": "eed0b872",
   "metadata": {},
   "outputs": [],
   "source": [
    "import numpy as np\n",
    "import sys"
   ]
  },
  {
   "cell_type": "code",
   "execution_count": 3,
   "id": "4a104b9f",
   "metadata": {},
   "outputs": [],
   "source": [
    "def str2float(s):\n",
    "    return float(s.replace('D','e'))\n",
    "\n",
    "def CutLTMatOut(fname, head_line, index=0):\n",
    "    cur_index = 0\n",
    "    f = open(fname)\n",
    "    status = None\n",
    "    r = 0\n",
    "    indices = []\n",
    "    mat = []\n",
    "    for line in f:\n",
    "        if head_line in line:\n",
    "            status = \"Column Indices\"\n",
    "            continue\n",
    "        if status == \"Rows\":\n",
    "            splitted = line.split()\n",
    "            if all([x.isnumeric() for x in splitted]):\n",
    "                status = \"Column Indices\"\n",
    "            else:\n",
    "                try:\n",
    "                    r = int(splitted[0])\n",
    "                    floats = [str2float(s) for s in splitted[1:]]\n",
    "                    if len(mat) < r:\n",
    "                        mat.append(floats)\n",
    "                    else:\n",
    "                        mat[r-1] += floats\n",
    "                except ValueError as e:\n",
    "                    break\n",
    "                continue\n",
    "        if status == \"Column Indices\":\n",
    "            status = \"Rows\"\n",
    "            indices = [int(I) for I in line.split()]\n",
    "            continue\n",
    "    f.close()\n",
    "    return mat\n",
    "\n",
    "def toNPMatrix(mat_array, symmetry = 'symmetric'):\n",
    "    dim = len(mat_array)\n",
    "    mat = np.zeros((dim,dim))\n",
    "    for i in range(dim):\n",
    "        mat[i,:i+1] = mat_array[i]\n",
    "    if symmetry == 'symmetric':\n",
    "        diag = np.diag(np.diag(mat))\n",
    "        return mat + mat.T - diag\n",
    "    elif symmetry == 'anti-symmetric':\n",
    "        return mat - mat.T\n",
    "\n",
    "\n",
    "def ReadMatrix(fname, head_line, index=0):\n",
    "    return np.array(CutLTMatOut(fname, head_line, index))\n",
    "\n",
    "def ReadLowerTri(fname, head_line, index=0, symmetry = 'symmetric'):\n",
    "    return toNPMatrix(CutLTMatOut(fname, head_line, index), symmetry)\n",
    "\n",
    "def outMatrix(A):\n",
    "    if np.iscomplexobj(A):\n",
    "        print(\"Real part:\")\n",
    "        outMatrix(A.real)\n",
    "        print()\n",
    "        print(\"Imag part:\")\n",
    "        outMatrix(A.imag)\n",
    "        return\n",
    "    print(\"--------------------------------------------------------------------------------\")\n",
    "    curColStart, curColEnd = 0, 5\n",
    "    while curColStart < A.shape[1]:\n",
    "        curColEnd = min(curColStart + 5, A.shape[1])\n",
    "        print(\"     \"+\"               \".join(list(map(str, range(curColStart + 1, curColEnd + 1)))))\n",
    "        for i in range(A.shape[0]):\n",
    "            print(\"%3d   \"%(i+1,) + \" \".join(list(map(lambda x : \"%15.8e\"%(x if abs(x) > 1e-8 else 0,) , A[i, curColStart : curColEnd]))))\n",
    "        curColStart += 5\n",
    "        print()\n",
    "\n",
    "    print(\"--------------------------------------------------------------------------------\")"
   ]
  },
  {
   "cell_type": "code",
   "execution_count": 113,
   "id": "473b5fef",
   "metadata": {},
   "outputs": [],
   "source": [
    "Jpe = ReadMatrix(\"cq_neo_matrices.dat\", \"Prot Square Matrix[EPJ]:\")\n",
    "\n",
    "Pp = ReadMatrix(\"cq_neo_matrices.dat\", \"Prot PauliSpinorOEI[onePDM->S].S:\")\n",
    "\n",
    "Jep = ReadMatrix(\"cq_neo_matrices.dat\", \"Elec Square Matrix[EPJ]:\")\n",
    "\n",
    "Pe = ReadMatrix(\"cq_neo_matrices.dat\", \"Elec PauliSpinorOEI[onePDM->S].S:\")\n",
    "\n",
    "He = ReadMatrix(\"cq_neo_matrices.dat\", \"Elec PauliSpinorOEI[Core Hamiltonian].S:\")\n",
    "\n",
    "Hp = ReadMatrix(\"cq_neo_matrices.dat\", \"Prot PauliSpinorOEI[Core Hamiltonian].S:\")\n",
    "  \n",
    "twoeHp_S = ReadMatrix(\"cq_neo_matrices.dat\", \"Prot PauliSpinorOEI[twoeH->S].S: \")\n",
    "\n",
    "twoeHp_Z = ReadMatrix(\"cq_neo_matrices.dat\", \"Prot PauliSpinorOEI[twoeH->S].Z: \")\n",
    "\n",
    "twoeHe_S = ReadMatrix(\"cq_neo_matrices.dat\", \"Elec PauliSpinorOEI[twoeH->S].S: \")\n",
    "\n",
    "test = ReadLowerTri(\"cq_neo_matrices.dat\", \"FoFNEOGP          0: \") "
   ]
  },
  {
   "cell_type": "code",
   "execution_count": 30,
   "id": "ce7ee3cb",
   "metadata": {},
   "outputs": [
    {
     "data": {
      "text/plain": [
       "8.480956161015296"
      ]
     },
     "execution_count": 30,
     "metadata": {},
     "output_type": "execute_result"
    }
   ],
   "source": [
    "np.trace(np.dot(Jpe,Pp))"
   ]
  },
  {
   "cell_type": "code",
   "execution_count": 31,
   "id": "13c79845",
   "metadata": {},
   "outputs": [
    {
     "data": {
      "text/plain": [
       "8.480956158260533"
      ]
     },
     "execution_count": 31,
     "metadata": {},
     "output_type": "execute_result"
    }
   ],
   "source": [
    "np.trace(np.dot(Jep,Pe))"
   ]
  },
  {
   "cell_type": "code",
   "execution_count": 32,
   "id": "3baa0876",
   "metadata": {},
   "outputs": [
    {
     "data": {
      "text/plain": [
       "2.754763528400872e-09"
      ]
     },
     "execution_count": 32,
     "metadata": {},
     "output_type": "execute_result"
    }
   ],
   "source": [
    "8.480956161015296-8.480956158260533"
   ]
  },
  {
   "cell_type": "code",
   "execution_count": 34,
   "id": "3184ae21",
   "metadata": {},
   "outputs": [
    {
     "data": {
      "text/plain": [
       "-116.38171341439794"
      ]
     },
     "execution_count": 34,
     "metadata": {},
     "output_type": "execute_result"
    }
   ],
   "source": [
    "np.trace(np.dot(He,Pe))*0.5"
   ]
  },
  {
   "cell_type": "code",
   "execution_count": 35,
   "id": "0d11c067",
   "metadata": {},
   "outputs": [
    {
     "data": {
      "text/plain": [
       "-109.49723648031286"
      ]
     },
     "execution_count": 35,
     "metadata": {},
     "output_type": "execute_result"
    }
   ],
   "source": [
    "-116.38171341439794+6.884476934085070"
   ]
  },
  {
   "cell_type": "code",
   "execution_count": 36,
   "id": "1818a53c",
   "metadata": {},
   "outputs": [
    {
     "name": "stdout",
     "output_type": "stream",
     "text": [
      "--------------------------------------------------------------------------------\n",
      "     1               2               3               4               5\n",
      "  1    2.13010032e+00 -5.70983090e-01  0.00000000e+00 -4.02953234e-02  0.00000000e+00\n",
      "  2   -5.70983090e-01  2.50140025e+00  0.00000000e+00  2.37789227e-01  0.00000000e+00\n",
      "  3    0.00000000e+00  0.00000000e+00  2.26355493e+00  0.00000000e+00  0.00000000e+00\n",
      "  4   -4.02953234e-02  2.37789227e-01  0.00000000e+00  2.14098808e+00  0.00000000e+00\n",
      "  5    0.00000000e+00  0.00000000e+00  0.00000000e+00  0.00000000e+00  2.00000000e+00\n",
      "  6    6.76308923e-02 -2.92526768e-01 -3.10177465e-01 -2.15942553e-01  0.00000000e+00\n",
      "  7    6.76308923e-02 -2.92526768e-01  3.10177465e-01 -2.15942553e-01  0.00000000e+00\n",
      "\n",
      "     6               7\n",
      "  1    6.76308923e-02  6.76308923e-02\n",
      "  2   -2.92526768e-01 -2.92526768e-01\n",
      "  3   -3.10177465e-01  3.10177465e-01\n",
      "  4   -2.15942553e-01 -2.15942553e-01\n",
      "  5    0.00000000e+00  0.00000000e+00\n",
      "  6    9.34240293e-02  8.41609908e-03\n",
      "  7    8.41609908e-03  9.34240293e-02\n",
      "\n",
      "--------------------------------------------------------------------------------\n"
     ]
    }
   ],
   "source": [
    "outMatrix(Pe)"
   ]
  },
  {
   "cell_type": "code",
   "execution_count": 37,
   "id": "fefbb627",
   "metadata": {},
   "outputs": [
    {
     "data": {
      "text/plain": [
       "39.699048662603275"
      ]
     },
     "execution_count": 37,
     "metadata": {},
     "output_type": "execute_result"
    }
   ],
   "source": [
    "35.458570583473005+0.5*8.480956158260533\n"
   ]
  },
  {
   "cell_type": "code",
   "execution_count": 38,
   "id": "fdd19691",
   "metadata": {},
   "outputs": [
    {
     "data": {
      "text/plain": [
       "4.6421281751918286e-07"
      ]
     },
     "execution_count": 38,
     "metadata": {},
     "output_type": "execute_result"
    }
   ],
   "source": [
    "-108.03894826578718+0.108038948730e+03"
   ]
  },
  {
   "cell_type": "code",
   "execution_count": 39,
   "id": "e947ca81",
   "metadata": {},
   "outputs": [
    {
     "data": {
      "text/plain": [
       "2"
      ]
     },
     "execution_count": 39,
     "metadata": {},
     "output_type": "execute_result"
    }
   ],
   "source": [
    "1+1"
   ]
  },
  {
   "cell_type": "code",
   "execution_count": 41,
   "id": "47d2d4b6",
   "metadata": {},
   "outputs": [
    {
     "data": {
      "text/plain": [
       "0.0"
      ]
     },
     "execution_count": 41,
     "metadata": {},
     "output_type": "execute_result"
    }
   ],
   "source": [
    "3.851800610747635*2-7.70360122149527"
   ]
  },
  {
   "cell_type": "code",
   "execution_count": 42,
   "id": "aef3d3fa",
   "metadata": {},
   "outputs": [
    {
     "data": {
      "text/plain": [
       "9.419936103682858e-05"
      ]
     },
     "execution_count": 42,
     "metadata": {},
     "output_type": "execute_result"
    }
   ],
   "source": [
    "-0.178451e+02*2+35.690294199361034"
   ]
  },
  {
   "cell_type": "code",
   "execution_count": 43,
   "id": "ee0b2f76",
   "metadata": {},
   "outputs": [
    {
     "data": {
      "text/plain": [
       "9.966851589382486e-06"
      ]
     },
     "execution_count": 43,
     "metadata": {},
     "output_type": "execute_result"
    }
   ],
   "source": [
    "-0.464382e+01*2+9.2876499668515891"
   ]
  },
  {
   "cell_type": "code",
   "execution_count": 44,
   "id": "b398097a",
   "metadata": {},
   "outputs": [
    {
     "data": {
      "text/plain": [
       "-0.00016047499999993775"
      ]
     },
     "execution_count": 44,
     "metadata": {},
     "output_type": "execute_result"
    }
   ],
   "source": [
    "8.59503525e-01-0.859664"
   ]
  },
  {
   "cell_type": "code",
   "execution_count": 45,
   "id": "4a9a6602",
   "metadata": {},
   "outputs": [
    {
     "data": {
      "text/plain": [
       "0.1440316970866895"
      ]
     },
     "execution_count": 45,
     "metadata": {},
     "output_type": "execute_result"
    }
   ],
   "source": [
    "1.5749184140782635-1.430886716991574"
   ]
  },
  {
   "cell_type": "code",
   "execution_count": 46,
   "id": "92c106e2",
   "metadata": {},
   "outputs": [
    {
     "data": {
      "text/plain": [
       "-5.1456655242310134e-08"
      ]
     },
     "execution_count": 46,
     "metadata": {},
     "output_type": "execute_result"
    }
   ],
   "source": [
    "0.1440316970866895/2- 0.720159e-01  "
   ]
  },
  {
   "cell_type": "code",
   "execution_count": 48,
   "id": "cad0136c",
   "metadata": {},
   "outputs": [
    {
     "data": {
      "text/plain": [
       "-1.9213745816593075e-08"
      ]
     },
     "execution_count": 48,
     "metadata": {},
     "output_type": "execute_result"
    }
   ],
   "source": [
    "-0.52580618868239082+0.525806169468645"
   ]
  },
  {
   "cell_type": "code",
   "execution_count": 50,
   "id": "57b05cfe",
   "metadata": {},
   "outputs": [
    {
     "data": {
      "text/plain": [
       "5.4169712091045596e-05"
      ]
     },
     "execution_count": 50,
     "metadata": {},
     "output_type": "execute_result"
    }
   ],
   "source": [
    "-6.884476934085070+6.884531103797161"
   ]
  },
  {
   "cell_type": "code",
   "execution_count": 53,
   "id": "6a01851f",
   "metadata": {},
   "outputs": [
    {
     "data": {
      "text/plain": [
       "0.2724063221686488"
      ]
     },
     "execution_count": 53,
     "metadata": {},
     "output_type": "execute_result"
    }
   ],
   "source": [
    "-3.9680717391173599+8.480956122572017/2"
   ]
  },
  {
   "cell_type": "code",
   "execution_count": 54,
   "id": "27dff8b9",
   "metadata": {},
   "outputs": [
    {
     "data": {
      "text/plain": [
       "-0.00010517394062498076"
      ]
     },
     "execution_count": 54,
     "metadata": {},
     "output_type": "execute_result"
    }
   ],
   "source": [
    "0.2724063221686488-0.2725114961092738"
   ]
  },
  {
   "cell_type": "code",
   "execution_count": 57,
   "id": "52c90d88",
   "metadata": {},
   "outputs": [
    {
     "data": {
      "text/plain": [
       "-3.436635864773052e-09"
      ]
     },
     "execution_count": 57,
     "metadata": {},
     "output_type": "execute_result"
    }
   ],
   "source": [
    "np.trace(np.dot(Hp,Pp))*0.5 - 6.88447693408507"
   ]
  },
  {
   "cell_type": "code",
   "execution_count": 58,
   "id": "d42788a3",
   "metadata": {},
   "outputs": [
    {
     "data": {
      "text/plain": [
       "2.52602063710583e-07"
      ]
     },
     "execution_count": 58,
     "metadata": {},
     "output_type": "execute_result"
    }
   ],
   "source": [
    "-116.38171341439794+0.116381713667e+03"
   ]
  },
  {
   "cell_type": "code",
   "execution_count": 59,
   "id": "8a9dbf83",
   "metadata": {},
   "outputs": [
    {
     "data": {
      "text/plain": [
       "8.236666452443586e-06"
      ]
     },
     "execution_count": 59,
     "metadata": {},
     "output_type": "execute_result"
    }
   ],
   "source": [
    "2.1168082366664525-0.105840e+01*2"
   ]
  },
  {
   "cell_type": "code",
   "execution_count": 60,
   "id": "21f7f7ab",
   "metadata": {},
   "outputs": [
    {
     "data": {
      "text/plain": [
       "-4.6421281751918286e-07"
      ]
     },
     "execution_count": 60,
     "metadata": {},
     "output_type": "execute_result"
    }
   ],
   "source": [
    "-0.108038948730E+03+108.03894826578718"
   ]
  },
  {
   "cell_type": "code",
   "execution_count": 61,
   "id": "18247588",
   "metadata": {
    "scrolled": true
   },
   "outputs": [
    {
     "data": {
      "text/plain": [
       "6.884476930648434"
      ]
     },
     "execution_count": 61,
     "metadata": {},
     "output_type": "execute_result"
    }
   ],
   "source": [
    "np.trace(np.dot(Hp,Pp))*0.5"
   ]
  },
  {
   "cell_type": "code",
   "execution_count": 74,
   "id": "df73463b",
   "metadata": {},
   "outputs": [
    {
     "data": {
      "text/plain": [
       "-3.967966584760364"
      ]
     },
     "execution_count": 74,
     "metadata": {},
     "output_type": "execute_result"
    }
   ],
   "source": [
    "np.trace(np.dot((twoeHp_S+twoeHp_Z-2*Jpe),Pp))*0.25"
   ]
  },
  {
   "cell_type": "code",
   "execution_count": 77,
   "id": "879b0af2",
   "metadata": {},
   "outputs": [
    {
     "data": {
      "text/plain": [
       "-3.967966584760364"
      ]
     },
     "execution_count": 77,
     "metadata": {},
     "output_type": "execute_result"
    }
   ],
   "source": [
    "#CQ:\n",
    "np.trace(np.dot((twoeHp_S+twoeHp_Z-2*Jpe),Pp))*0.25"
   ]
  },
  {
   "cell_type": "code",
   "execution_count": 79,
   "id": "3e213ad3",
   "metadata": {},
   "outputs": [
    {
     "data": {
      "text/plain": [
       "-3.9679665651767313"
      ]
     },
     "execution_count": 79,
     "metadata": {},
     "output_type": "execute_result"
    }
   ],
   "source": [
    "#Gaussian:\n",
    "0.2725114961092738-0.5*8.480956122572010"
   ]
  },
  {
   "cell_type": "code",
   "execution_count": 80,
   "id": "45971884",
   "metadata": {},
   "outputs": [
    {
     "data": {
      "text/plain": [
       "-1.9583632493436198e-08"
      ]
     },
     "execution_count": 80,
     "metadata": {},
     "output_type": "execute_result"
    }
   ],
   "source": [
    "-3.967966584760364+3.9679665651767313"
   ]
  },
  {
   "cell_type": "code",
   "execution_count": 81,
   "id": "755bac65",
   "metadata": {},
   "outputs": [
    {
     "data": {
      "text/plain": [
       "-116.38171341439794"
      ]
     },
     "execution_count": 81,
     "metadata": {},
     "output_type": "execute_result"
    }
   ],
   "source": [
    "np.trace(np.dot(He,Pe))*0.5"
   ]
  },
  {
   "cell_type": "code",
   "execution_count": 83,
   "id": "e35dfa05",
   "metadata": {},
   "outputs": [
    {
     "data": {
      "text/plain": [
       "44.58034298528901"
      ]
     },
     "execution_count": 83,
     "metadata": {},
     "output_type": "execute_result"
    }
   ],
   "source": [
    "np.trace(np.dot(twoeHe_S,Pe))*0.25"
   ]
  },
  {
   "cell_type": "code",
   "execution_count": 84,
   "id": "1f63b6d4",
   "metadata": {},
   "outputs": [
    {
     "data": {
      "text/plain": [
       "8.480956158260533"
      ]
     },
     "execution_count": 84,
     "metadata": {},
     "output_type": "execute_result"
    }
   ],
   "source": [
    "np.trace(np.dot(Jep,Pe))"
   ]
  },
  {
   "cell_type": "code",
   "execution_count": 85,
   "id": "a73c1c9c",
   "metadata": {},
   "outputs": [
    {
     "data": {
      "text/plain": [
       "-19.569673051866317"
      ]
     },
     "execution_count": 85,
     "metadata": {},
     "output_type": "execute_result"
    }
   ],
   "source": [
    "-39.139346103732635/2"
   ]
  },
  {
   "cell_type": "code",
   "execution_count": 86,
   "id": "abd68cee",
   "metadata": {},
   "outputs": [
    {
     "data": {
      "text/plain": [
       "-20.429185290464986"
      ]
     },
     "execution_count": 86,
     "metadata": {},
     "output_type": "execute_result"
    }
   ],
   "source": [
    "-40.858370580929972/2"
   ]
  },
  {
   "cell_type": "code",
   "execution_count": 87,
   "id": "3338756d",
   "metadata": {},
   "outputs": [
    {
     "data": {
      "text/plain": [
       "-1.470953501581107e-05"
      ]
     },
     "execution_count": 87,
     "metadata": {},
     "output_type": "execute_result"
    }
   ],
   "source": [
    "-0.204292e+02+20.429185290464986"
   ]
  },
  {
   "cell_type": "code",
   "execution_count": null,
   "id": "396748c5",
   "metadata": {},
   "outputs": [],
   "source": [
    "3.3233181989698917"
   ]
  },
  {
   "cell_type": "code",
   "execution_count": 91,
   "id": "f24422cf",
   "metadata": {},
   "outputs": [
    {
     "data": {
      "text/plain": [
       "0.00423513103010853"
      ]
     },
     "execution_count": 91,
     "metadata": {},
     "output_type": "execute_result"
    }
   ],
   "source": [
    "twoeHp_S[0,0]-3.3233181989698917"
   ]
  },
  {
   "cell_type": "code",
   "execution_count": 92,
   "id": "00f6fbf8",
   "metadata": {},
   "outputs": [
    {
     "data": {
      "text/plain": [
       "7.7036"
      ]
     },
     "execution_count": 92,
     "metadata": {},
     "output_type": "execute_result"
    }
   ],
   "source": [
    "0.385180e+01*2"
   ]
  },
  {
   "cell_type": "code",
   "execution_count": 93,
   "id": "d66a2a7c",
   "metadata": {},
   "outputs": [
    {
     "data": {
      "text/plain": [
       "-0.0023174"
      ]
     },
     "execution_count": 93,
     "metadata": {},
     "output_type": "execute_result"
    }
   ],
   "source": [
    "-0.231740e-02"
   ]
  },
  {
   "cell_type": "code",
   "execution_count": 94,
   "id": "1e0c5e42",
   "metadata": {},
   "outputs": [
    {
     "data": {
      "text/plain": [
       "0.9428618348032071"
      ]
     },
     "execution_count": 94,
     "metadata": {},
     "output_type": "execute_result"
    }
   ],
   "source": [
    "(3.3233181989698917-1.4375945293634775)/2"
   ]
  },
  {
   "cell_type": "code",
   "execution_count": 95,
   "id": "697863d0",
   "metadata": {},
   "outputs": [
    {
     "data": {
      "text/plain": [
       "1.8966666100000003"
      ]
     },
     "execution_count": 95,
     "metadata": {},
     "output_type": "execute_result"
    }
   ],
   "source": [
    "twoeHp_S[0,0]+twoeHp_Z[0,0]"
   ]
  },
  {
   "cell_type": "code",
   "execution_count": 103,
   "id": "3f23a9b6",
   "metadata": {},
   "outputs": [
    {
     "name": "stdout",
     "output_type": "stream",
     "text": [
      "--------------------------------------------------------------------------------\n",
      "     1               2               3               4               5\n",
      "  1    5.60854202e-01  3.91158288e-01  3.05437325e-01  0.00000000e+00  1.68028736e-08\n",
      "  2    3.91158288e-01  2.72806740e-01  2.13022103e-01  0.00000000e+00 -1.98829133e-08\n",
      "  3    3.05437325e-01  2.13022103e-01  1.66339058e-01  0.00000000e+00  1.90644955e-08\n",
      "  4    0.00000000e+00  0.00000000e+00  0.00000000e+00  0.00000000e+00  0.00000000e+00\n",
      "  5    1.68028736e-08 -1.98829133e-08  1.90644955e-08  0.00000000e+00  5.60854202e-01\n",
      "  6    1.98829160e-08  3.59071410e-08  0.00000000e+00  0.00000000e+00 -3.91158288e-01\n",
      "  7    1.90644958e-08  0.00000000e+00  1.57813616e-08  0.00000000e+00  3.05437325e-01\n",
      "  8    0.00000000e+00  0.00000000e+00  0.00000000e+00  0.00000000e+00  0.00000000e+00\n",
      "\n",
      "     6               7               8\n",
      "  1    1.98829160e-08  1.90644958e-08  0.00000000e+00\n",
      "  2    3.59071410e-08  0.00000000e+00  0.00000000e+00\n",
      "  3    0.00000000e+00  1.57813616e-08  0.00000000e+00\n",
      "  4    0.00000000e+00  0.00000000e+00  0.00000000e+00\n",
      "  5   -3.91158288e-01  3.05437325e-01  0.00000000e+00\n",
      "  6    2.72806740e-01 -2.13022103e-01  0.00000000e+00\n",
      "  7   -2.13022103e-01  1.66339058e-01  0.00000000e+00\n",
      "  8    0.00000000e+00  0.00000000e+00  0.00000000e+00\n",
      "\n",
      "--------------------------------------------------------------------------------\n"
     ]
    }
   ],
   "source": [
    "outMatrix(Pp)"
   ]
  },
  {
   "cell_type": "code",
   "execution_count": 105,
   "id": "306f4fce",
   "metadata": {},
   "outputs": [],
   "source": [
    "Gpp = (twoeHp_S+twoeHp_Z)/2"
   ]
  },
  {
   "cell_type": "code",
   "execution_count": 106,
   "id": "383bf032",
   "metadata": {},
   "outputs": [
    {
     "name": "stdout",
     "output_type": "stream",
     "text": [
      "--------------------------------------------------------------------------------\n",
      "     1               2               3               4               5\n",
      "  1    9.48333305e-01 -6.09157916e-01 -4.58620230e-01  0.00000000e+00  0.00000000e+00\n",
      "  2   -6.09157916e-01  1.38466598e+00 -3.20688445e-01  0.00000000e+00  0.00000000e+00\n",
      "  3   -4.58620230e-01 -3.20688445e-01  1.54040686e+00  0.00000000e+00  0.00000000e+00\n",
      "  4    0.00000000e+00  0.00000000e+00  0.00000000e+00  1.79065457e+00  0.00000000e+00\n",
      "  5    0.00000000e+00  0.00000000e+00  0.00000000e+00  0.00000000e+00  9.48333305e-01\n",
      "  6    0.00000000e+00 -2.74573648e-08  0.00000000e+00  0.00000000e+00  6.09157916e-01\n",
      "  7    0.00000000e+00  0.00000000e+00  0.00000000e+00  0.00000000e+00 -4.58620230e-01\n",
      "  8    0.00000000e+00  0.00000000e+00  0.00000000e+00  0.00000000e+00  0.00000000e+00\n",
      "\n",
      "     6               7               8\n",
      "  1    0.00000000e+00  0.00000000e+00  0.00000000e+00\n",
      "  2   -2.74573648e-08  0.00000000e+00  0.00000000e+00\n",
      "  3    0.00000000e+00  0.00000000e+00  0.00000000e+00\n",
      "  4    0.00000000e+00  0.00000000e+00  0.00000000e+00\n",
      "  5    6.09157916e-01 -4.58620230e-01  0.00000000e+00\n",
      "  6    1.38466598e+00  3.20688445e-01  0.00000000e+00\n",
      "  7    3.20688445e-01  1.54040686e+00  0.00000000e+00\n",
      "  8    0.00000000e+00  0.00000000e+00  1.79065457e+00\n",
      "\n",
      "--------------------------------------------------------------------------------\n"
     ]
    }
   ],
   "source": [
    "outMatrix(Gpp)"
   ]
  },
  {
   "cell_type": "code",
   "execution_count": 107,
   "id": "2aa4f94a",
   "metadata": {},
   "outputs": [
    {
     "data": {
      "text/plain": [
       "0.27251149574728495"
      ]
     },
     "execution_count": 107,
     "metadata": {},
     "output_type": "execute_result"
    }
   ],
   "source": [
    "np.trace(np.dot(Gpp,Pp))*0.5"
   ]
  },
  {
   "cell_type": "code",
   "execution_count": 108,
   "id": "ec7421de",
   "metadata": {},
   "outputs": [
    {
     "data": {
      "text/plain": [
       "3.6198882780169583e-10"
      ]
     },
     "execution_count": 108,
     "metadata": {},
     "output_type": "execute_result"
    }
   ],
   "source": [
    "0.2725114961092738-0.27251149574728495"
   ]
  },
  {
   "cell_type": "code",
   "execution_count": 114,
   "id": "1a1569f3",
   "metadata": {},
   "outputs": [
    {
     "data": {
      "text/plain": [
       "0.3003849743190809"
      ]
     },
     "execution_count": 114,
     "metadata": {},
     "output_type": "execute_result"
    }
   ],
   "source": [
    "np.trace(np.dot(test,Pp))*0.5"
   ]
  },
  {
   "cell_type": "code",
   "execution_count": 115,
   "id": "9184c19d",
   "metadata": {},
   "outputs": [
    {
     "data": {
      "text/plain": [
       "-1.6519679291171485e-07"
      ]
     },
     "execution_count": 115,
     "metadata": {},
     "output_type": "execute_result"
    }
   ],
   "source": [
    "(3.3233181989698917-1.4375945293634775)/2-0.942862"
   ]
  },
  {
   "cell_type": "code",
   "execution_count": 116,
   "id": "d5ed93a1",
   "metadata": {},
   "outputs": [
    {
     "data": {
      "text/plain": [
       "-4.305586843974358"
      ]
     },
     "execution_count": 116,
     "metadata": {},
     "output_type": "execute_result"
    }
   ],
   "source": [
    "(3.3233181989698917-1.4375945293634775-2*5.2484486787775646)/2"
   ]
  },
  {
   "cell_type": "code",
   "execution_count": 118,
   "id": "56e4505b",
   "metadata": {},
   "outputs": [
    {
     "data": {
      "text/plain": [
       "-0.45378623322672285"
      ]
     },
     "execution_count": 118,
     "metadata": {},
     "output_type": "execute_result"
    }
   ],
   "source": [
    "(-7.1735791585852375-1.4375945293634775+7.70360122149527)/2"
   ]
  },
  {
   "cell_type": "code",
   "execution_count": 119,
   "id": "50153e77",
   "metadata": {},
   "outputs": [
    {
     "data": {
      "text/plain": [
       "-0.45378623322672207"
      ]
     },
     "execution_count": 119,
     "metadata": {},
     "output_type": "execute_result"
    }
   ],
   "source": [
    "(0.5300220629100334-1.4375945293634775)/2"
   ]
  },
  {
   "cell_type": "code",
   "execution_count": null,
   "id": "6319cf18",
   "metadata": {},
   "outputs": [],
   "source": []
  }
 ],
 "metadata": {
  "kernelspec": {
   "display_name": "Python 3",
   "language": "python",
   "name": "python3"
  },
  "language_info": {
   "codemirror_mode": {
    "name": "ipython",
    "version": 3
   },
   "file_extension": ".py",
   "mimetype": "text/x-python",
   "name": "python",
   "nbconvert_exporter": "python",
   "pygments_lexer": "ipython3",
   "version": "3.8.8"
  }
 },
 "nbformat": 4,
 "nbformat_minor": 5
}
