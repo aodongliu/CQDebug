{
 "cells": [
  {
   "cell_type": "code",
   "execution_count": 1,
   "id": "d0233c01",
   "metadata": {},
   "outputs": [],
   "source": [
    "import numpy as np\n",
    "import sys"
   ]
  },
  {
   "cell_type": "code",
   "execution_count": 2,
   "id": "a09d2f77",
   "metadata": {},
   "outputs": [],
   "source": [
    "def outMatrix(A):\n",
    "    if np.iscomplexobj(A):\n",
    "        print(\"Real part:\")\n",
    "        outMatrix(A.real)\n",
    "        print()\n",
    "        print(\"Imag part:\")\n",
    "        outMatrix(A.imag)\n",
    "        return\n",
    "    print(\"--------------------------------------------------------------------------------\")\n",
    "    curColStart, curColEnd = 0, 5\n",
    "    while curColStart < A.shape[1]:\n",
    "        curColEnd = min(curColStart + 5, A.shape[1])\n",
    "        print(\"     \"+\"               \".join(list(map(str, range(curColStart + 1, curColEnd + 1)))))\n",
    "        for i in range(A.shape[0]):\n",
    "            print(\"%3d   \"%(i+1,) + \" \".join(list(map(lambda x : \"%15.8e\"%(x if abs(x) > 1e-8 else 0,) , A[i, curColStart : curColEnd]))))\n",
    "        curColStart += 5\n",
    "        print()\n",
    "\n",
    "    print(\"--------------------------------------------------------------------------------\")"
   ]
  },
  {
   "cell_type": "code",
   "execution_count": 3,
   "id": "57ce9284",
   "metadata": {},
   "outputs": [],
   "source": [
    "fname =  sys.argv[1] \n",
    "dim = sys.argv[2]"
   ]
  },
  {
   "cell_type": "code",
   "execution_count": 41,
   "id": "fa4ea2e4",
   "metadata": {},
   "outputs": [
    {
     "name": "stdout",
     "output_type": "stream",
     "text": [
      "e index: 0\n",
      "m index: (0,0)\n",
      "e index: 1\n",
      "m index: (1,0)\n",
      "e index: 2\n",
      "m index: (2,0)\n",
      "e index: 3\n",
      "m index: (3,0)\n",
      "e index: 4\n",
      "m index: (0,1)\n",
      "e index: 5\n",
      "m index: (1,1)\n",
      "e index: 6\n",
      "m index: (2,1)\n",
      "e index: 7\n",
      "m index: (3,1)\n",
      "e index: 8\n",
      "m index: (0,2)\n",
      "e index: 9\n",
      "m index: (1,2)\n",
      "e index: 10\n",
      "m index: (2,2)\n",
      "e index: 11\n",
      "m index: (3,2)\n",
      "e index: 12\n",
      "m index: (0,3)\n",
      "e index: 13\n",
      "m index: (1,3)\n",
      "e index: 14\n",
      "m index: (2,3)\n",
      "e index: 15\n",
      "m index: (3,3)\n"
     ]
    }
   ],
   "source": [
    "f = open(fname)\n",
    "elements = []\n",
    "mat = np.zeros((dim,dim))\n",
    "\n",
    "\n",
    "line = next(f)\n",
    "a = line[(line.find('{')+1):]\n",
    "b = a[:((a.find('}')))]\n",
    "elements = b.split(',')\n",
    "\n",
    "\n",
    "for i in range(dim):\n",
    "    for j in range(dim):\n",
    "        #print('e index: ' + str(i*dim+j))\n",
    "        #print('m index: ' + '(' +str(j) + ',' + str(i) + ')')\n",
    "        mat[j,i] = float(elements[i*dim+j])\n",
    "\n",
    "f.close()\n",
    "\n",
    "outMatrix(mat)"
   ]
  }
 ],
 "metadata": {
  "kernelspec": {
   "display_name": "Python 3",
   "language": "python",
   "name": "python3"
  },
  "language_info": {
   "codemirror_mode": {
    "name": "ipython",
    "version": 3
   },
   "file_extension": ".py",
   "mimetype": "text/x-python",
   "name": "python",
   "nbconvert_exporter": "python",
   "pygments_lexer": "ipython3",
   "version": "3.8.8"
  }
 },
 "nbformat": 4,
 "nbformat_minor": 5
}
